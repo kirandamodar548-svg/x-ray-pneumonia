{
  "nbformat": 4,
  "nbformat_minor": 0,
  "metadata": {
    "colab": {
      "provenance": [],
      "gpuType": "T4"
    },
    "kernelspec": {
      "name": "python3",
      "display_name": "Python 3"
    },
    "language_info": {
      "name": "python"
    },
    "accelerator": "GPU"
  },
  "cells": [
    {
      "cell_type": "code",
      "execution_count": 1,
      "metadata": {
        "colab": {
          "base_uri": "https://localhost:8080/"
        },
        "id": "1l6GMiulyVQY",
        "outputId": "25f8bbb7-f7c9-4f06-fa5f-0ac48f6800e9"
      },
      "outputs": [
        {
          "output_type": "stream",
          "name": "stdout",
          "text": [
            "Requirement already satisfied: tensorflow in /usr/local/lib/python3.12/dist-packages (2.19.0)\n",
            "Requirement already satisfied: keras in /usr/local/lib/python3.12/dist-packages (3.10.0)\n",
            "Requirement already satisfied: matplotlib in /usr/local/lib/python3.12/dist-packages (3.10.0)\n",
            "Requirement already satisfied: opencv-python in /usr/local/lib/python3.12/dist-packages (4.12.0.88)\n",
            "Requirement already satisfied: kaggle in /usr/local/lib/python3.12/dist-packages (1.7.4.5)\n",
            "Requirement already satisfied: absl-py>=1.0.0 in /usr/local/lib/python3.12/dist-packages (from tensorflow) (1.4.0)\n",
            "Requirement already satisfied: astunparse>=1.6.0 in /usr/local/lib/python3.12/dist-packages (from tensorflow) (1.6.3)\n",
            "Requirement already satisfied: flatbuffers>=24.3.25 in /usr/local/lib/python3.12/dist-packages (from tensorflow) (25.2.10)\n",
            "Requirement already satisfied: gast!=0.5.0,!=0.5.1,!=0.5.2,>=0.2.1 in /usr/local/lib/python3.12/dist-packages (from tensorflow) (0.6.0)\n",
            "Requirement already satisfied: google-pasta>=0.1.1 in /usr/local/lib/python3.12/dist-packages (from tensorflow) (0.2.0)\n",
            "Requirement already satisfied: libclang>=13.0.0 in /usr/local/lib/python3.12/dist-packages (from tensorflow) (18.1.1)\n",
            "Requirement already satisfied: opt-einsum>=2.3.2 in /usr/local/lib/python3.12/dist-packages (from tensorflow) (3.4.0)\n",
            "Requirement already satisfied: packaging in /usr/local/lib/python3.12/dist-packages (from tensorflow) (25.0)\n",
            "Requirement already satisfied: protobuf!=4.21.0,!=4.21.1,!=4.21.2,!=4.21.3,!=4.21.4,!=4.21.5,<6.0.0dev,>=3.20.3 in /usr/local/lib/python3.12/dist-packages (from tensorflow) (5.29.5)\n",
            "Requirement already satisfied: requests<3,>=2.21.0 in /usr/local/lib/python3.12/dist-packages (from tensorflow) (2.32.4)\n",
            "Requirement already satisfied: setuptools in /usr/local/lib/python3.12/dist-packages (from tensorflow) (75.2.0)\n",
            "Requirement already satisfied: six>=1.12.0 in /usr/local/lib/python3.12/dist-packages (from tensorflow) (1.17.0)\n",
            "Requirement already satisfied: termcolor>=1.1.0 in /usr/local/lib/python3.12/dist-packages (from tensorflow) (3.1.0)\n",
            "Requirement already satisfied: typing-extensions>=3.6.6 in /usr/local/lib/python3.12/dist-packages (from tensorflow) (4.15.0)\n",
            "Requirement already satisfied: wrapt>=1.11.0 in /usr/local/lib/python3.12/dist-packages (from tensorflow) (1.17.3)\n",
            "Requirement already satisfied: grpcio<2.0,>=1.24.3 in /usr/local/lib/python3.12/dist-packages (from tensorflow) (1.74.0)\n",
            "Requirement already satisfied: tensorboard~=2.19.0 in /usr/local/lib/python3.12/dist-packages (from tensorflow) (2.19.0)\n",
            "Requirement already satisfied: numpy<2.2.0,>=1.26.0 in /usr/local/lib/python3.12/dist-packages (from tensorflow) (2.0.2)\n",
            "Requirement already satisfied: h5py>=3.11.0 in /usr/local/lib/python3.12/dist-packages (from tensorflow) (3.14.0)\n",
            "Requirement already satisfied: ml-dtypes<1.0.0,>=0.5.1 in /usr/local/lib/python3.12/dist-packages (from tensorflow) (0.5.3)\n",
            "Requirement already satisfied: rich in /usr/local/lib/python3.12/dist-packages (from keras) (13.9.4)\n",
            "Requirement already satisfied: namex in /usr/local/lib/python3.12/dist-packages (from keras) (0.1.0)\n",
            "Requirement already satisfied: optree in /usr/local/lib/python3.12/dist-packages (from keras) (0.17.0)\n",
            "Requirement already satisfied: contourpy>=1.0.1 in /usr/local/lib/python3.12/dist-packages (from matplotlib) (1.3.3)\n",
            "Requirement already satisfied: cycler>=0.10 in /usr/local/lib/python3.12/dist-packages (from matplotlib) (0.12.1)\n",
            "Requirement already satisfied: fonttools>=4.22.0 in /usr/local/lib/python3.12/dist-packages (from matplotlib) (4.59.2)\n",
            "Requirement already satisfied: kiwisolver>=1.3.1 in /usr/local/lib/python3.12/dist-packages (from matplotlib) (1.4.9)\n",
            "Requirement already satisfied: pillow>=8 in /usr/local/lib/python3.12/dist-packages (from matplotlib) (11.3.0)\n",
            "Requirement already satisfied: pyparsing>=2.3.1 in /usr/local/lib/python3.12/dist-packages (from matplotlib) (3.2.3)\n",
            "Requirement already satisfied: python-dateutil>=2.7 in /usr/local/lib/python3.12/dist-packages (from matplotlib) (2.9.0.post0)\n",
            "Requirement already satisfied: bleach in /usr/local/lib/python3.12/dist-packages (from kaggle) (6.2.0)\n",
            "Requirement already satisfied: certifi>=14.05.14 in /usr/local/lib/python3.12/dist-packages (from kaggle) (2025.8.3)\n",
            "Requirement already satisfied: charset-normalizer in /usr/local/lib/python3.12/dist-packages (from kaggle) (3.4.3)\n",
            "Requirement already satisfied: idna in /usr/local/lib/python3.12/dist-packages (from kaggle) (3.10)\n",
            "Requirement already satisfied: python-slugify in /usr/local/lib/python3.12/dist-packages (from kaggle) (8.0.4)\n",
            "Requirement already satisfied: text-unidecode in /usr/local/lib/python3.12/dist-packages (from kaggle) (1.3)\n",
            "Requirement already satisfied: tqdm in /usr/local/lib/python3.12/dist-packages (from kaggle) (4.67.1)\n",
            "Requirement already satisfied: urllib3>=1.15.1 in /usr/local/lib/python3.12/dist-packages (from kaggle) (2.5.0)\n",
            "Requirement already satisfied: webencodings in /usr/local/lib/python3.12/dist-packages (from kaggle) (0.5.1)\n",
            "Requirement already satisfied: wheel<1.0,>=0.23.0 in /usr/local/lib/python3.12/dist-packages (from astunparse>=1.6.0->tensorflow) (0.45.1)\n",
            "Requirement already satisfied: markdown>=2.6.8 in /usr/local/lib/python3.12/dist-packages (from tensorboard~=2.19.0->tensorflow) (3.9)\n",
            "Requirement already satisfied: tensorboard-data-server<0.8.0,>=0.7.0 in /usr/local/lib/python3.12/dist-packages (from tensorboard~=2.19.0->tensorflow) (0.7.2)\n",
            "Requirement already satisfied: werkzeug>=1.0.1 in /usr/local/lib/python3.12/dist-packages (from tensorboard~=2.19.0->tensorflow) (3.1.3)\n",
            "Requirement already satisfied: markdown-it-py>=2.2.0 in /usr/local/lib/python3.12/dist-packages (from rich->keras) (4.0.0)\n",
            "Requirement already satisfied: pygments<3.0.0,>=2.13.0 in /usr/local/lib/python3.12/dist-packages (from rich->keras) (2.19.2)\n",
            "Requirement already satisfied: mdurl~=0.1 in /usr/local/lib/python3.12/dist-packages (from markdown-it-py>=2.2.0->rich->keras) (0.1.2)\n",
            "Requirement already satisfied: MarkupSafe>=2.1.1 in /usr/local/lib/python3.12/dist-packages (from werkzeug>=1.0.1->tensorboard~=2.19.0->tensorflow) (3.0.2)\n"
          ]
        }
      ],
      "source": [
        "!pip install tensorflow keras matplotlib opencv-python kaggle"
      ]
    },
    {
      "cell_type": "code",
      "source": [
        "from google.colab import files\n",
        "files.upload()  # a file browser will pop up → select your kaggle.json\n",
        "\n"
      ],
      "metadata": {
        "colab": {
          "base_uri": "https://localhost:8080/",
          "height": 92
        },
        "id": "gENF_9St2xvu",
        "outputId": "f4b6a8b0-cac5-4889-f47f-bea4ebff8cc6"
      },
      "execution_count": 2,
      "outputs": [
        {
          "output_type": "display_data",
          "data": {
            "text/plain": [
              "<IPython.core.display.HTML object>"
            ],
            "text/html": [
              "\n",
              "     <input type=\"file\" id=\"files-96d435d3-babd-47f9-9870-5537d5a00868\" name=\"files[]\" multiple disabled\n",
              "        style=\"border:none\" />\n",
              "     <output id=\"result-96d435d3-babd-47f9-9870-5537d5a00868\">\n",
              "      Upload widget is only available when the cell has been executed in the\n",
              "      current browser session. Please rerun this cell to enable.\n",
              "      </output>\n",
              "      <script>// Copyright 2017 Google LLC\n",
              "//\n",
              "// Licensed under the Apache License, Version 2.0 (the \"License\");\n",
              "// you may not use this file except in compliance with the License.\n",
              "// You may obtain a copy of the License at\n",
              "//\n",
              "//      http://www.apache.org/licenses/LICENSE-2.0\n",
              "//\n",
              "// Unless required by applicable law or agreed to in writing, software\n",
              "// distributed under the License is distributed on an \"AS IS\" BASIS,\n",
              "// WITHOUT WARRANTIES OR CONDITIONS OF ANY KIND, either express or implied.\n",
              "// See the License for the specific language governing permissions and\n",
              "// limitations under the License.\n",
              "\n",
              "/**\n",
              " * @fileoverview Helpers for google.colab Python module.\n",
              " */\n",
              "(function(scope) {\n",
              "function span(text, styleAttributes = {}) {\n",
              "  const element = document.createElement('span');\n",
              "  element.textContent = text;\n",
              "  for (const key of Object.keys(styleAttributes)) {\n",
              "    element.style[key] = styleAttributes[key];\n",
              "  }\n",
              "  return element;\n",
              "}\n",
              "\n",
              "// Max number of bytes which will be uploaded at a time.\n",
              "const MAX_PAYLOAD_SIZE = 100 * 1024;\n",
              "\n",
              "function _uploadFiles(inputId, outputId) {\n",
              "  const steps = uploadFilesStep(inputId, outputId);\n",
              "  const outputElement = document.getElementById(outputId);\n",
              "  // Cache steps on the outputElement to make it available for the next call\n",
              "  // to uploadFilesContinue from Python.\n",
              "  outputElement.steps = steps;\n",
              "\n",
              "  return _uploadFilesContinue(outputId);\n",
              "}\n",
              "\n",
              "// This is roughly an async generator (not supported in the browser yet),\n",
              "// where there are multiple asynchronous steps and the Python side is going\n",
              "// to poll for completion of each step.\n",
              "// This uses a Promise to block the python side on completion of each step,\n",
              "// then passes the result of the previous step as the input to the next step.\n",
              "function _uploadFilesContinue(outputId) {\n",
              "  const outputElement = document.getElementById(outputId);\n",
              "  const steps = outputElement.steps;\n",
              "\n",
              "  const next = steps.next(outputElement.lastPromiseValue);\n",
              "  return Promise.resolve(next.value.promise).then((value) => {\n",
              "    // Cache the last promise value to make it available to the next\n",
              "    // step of the generator.\n",
              "    outputElement.lastPromiseValue = value;\n",
              "    return next.value.response;\n",
              "  });\n",
              "}\n",
              "\n",
              "/**\n",
              " * Generator function which is called between each async step of the upload\n",
              " * process.\n",
              " * @param {string} inputId Element ID of the input file picker element.\n",
              " * @param {string} outputId Element ID of the output display.\n",
              " * @return {!Iterable<!Object>} Iterable of next steps.\n",
              " */\n",
              "function* uploadFilesStep(inputId, outputId) {\n",
              "  const inputElement = document.getElementById(inputId);\n",
              "  inputElement.disabled = false;\n",
              "\n",
              "  const outputElement = document.getElementById(outputId);\n",
              "  outputElement.innerHTML = '';\n",
              "\n",
              "  const pickedPromise = new Promise((resolve) => {\n",
              "    inputElement.addEventListener('change', (e) => {\n",
              "      resolve(e.target.files);\n",
              "    });\n",
              "  });\n",
              "\n",
              "  const cancel = document.createElement('button');\n",
              "  inputElement.parentElement.appendChild(cancel);\n",
              "  cancel.textContent = 'Cancel upload';\n",
              "  const cancelPromise = new Promise((resolve) => {\n",
              "    cancel.onclick = () => {\n",
              "      resolve(null);\n",
              "    };\n",
              "  });\n",
              "\n",
              "  // Wait for the user to pick the files.\n",
              "  const files = yield {\n",
              "    promise: Promise.race([pickedPromise, cancelPromise]),\n",
              "    response: {\n",
              "      action: 'starting',\n",
              "    }\n",
              "  };\n",
              "\n",
              "  cancel.remove();\n",
              "\n",
              "  // Disable the input element since further picks are not allowed.\n",
              "  inputElement.disabled = true;\n",
              "\n",
              "  if (!files) {\n",
              "    return {\n",
              "      response: {\n",
              "        action: 'complete',\n",
              "      }\n",
              "    };\n",
              "  }\n",
              "\n",
              "  for (const file of files) {\n",
              "    const li = document.createElement('li');\n",
              "    li.append(span(file.name, {fontWeight: 'bold'}));\n",
              "    li.append(span(\n",
              "        `(${file.type || 'n/a'}) - ${file.size} bytes, ` +\n",
              "        `last modified: ${\n",
              "            file.lastModifiedDate ? file.lastModifiedDate.toLocaleDateString() :\n",
              "                                    'n/a'} - `));\n",
              "    const percent = span('0% done');\n",
              "    li.appendChild(percent);\n",
              "\n",
              "    outputElement.appendChild(li);\n",
              "\n",
              "    const fileDataPromise = new Promise((resolve) => {\n",
              "      const reader = new FileReader();\n",
              "      reader.onload = (e) => {\n",
              "        resolve(e.target.result);\n",
              "      };\n",
              "      reader.readAsArrayBuffer(file);\n",
              "    });\n",
              "    // Wait for the data to be ready.\n",
              "    let fileData = yield {\n",
              "      promise: fileDataPromise,\n",
              "      response: {\n",
              "        action: 'continue',\n",
              "      }\n",
              "    };\n",
              "\n",
              "    // Use a chunked sending to avoid message size limits. See b/62115660.\n",
              "    let position = 0;\n",
              "    do {\n",
              "      const length = Math.min(fileData.byteLength - position, MAX_PAYLOAD_SIZE);\n",
              "      const chunk = new Uint8Array(fileData, position, length);\n",
              "      position += length;\n",
              "\n",
              "      const base64 = btoa(String.fromCharCode.apply(null, chunk));\n",
              "      yield {\n",
              "        response: {\n",
              "          action: 'append',\n",
              "          file: file.name,\n",
              "          data: base64,\n",
              "        },\n",
              "      };\n",
              "\n",
              "      let percentDone = fileData.byteLength === 0 ?\n",
              "          100 :\n",
              "          Math.round((position / fileData.byteLength) * 100);\n",
              "      percent.textContent = `${percentDone}% done`;\n",
              "\n",
              "    } while (position < fileData.byteLength);\n",
              "  }\n",
              "\n",
              "  // All done.\n",
              "  yield {\n",
              "    response: {\n",
              "      action: 'complete',\n",
              "    }\n",
              "  };\n",
              "}\n",
              "\n",
              "scope.google = scope.google || {};\n",
              "scope.google.colab = scope.google.colab || {};\n",
              "scope.google.colab._files = {\n",
              "  _uploadFiles,\n",
              "  _uploadFilesContinue,\n",
              "};\n",
              "})(self);\n",
              "</script> "
            ]
          },
          "metadata": {}
        },
        {
          "output_type": "stream",
          "name": "stdout",
          "text": [
            "Saving kaggle.json to kaggle.json\n"
          ]
        },
        {
          "output_type": "execute_result",
          "data": {
            "text/plain": [
              "{'kaggle.json': b'{\"username\":\"kirantl23btai048\",\"key\":\"1ae106e3310513d8846ab50707485661\"}'}"
            ]
          },
          "metadata": {},
          "execution_count": 2
        }
      ]
    },
    {
      "cell_type": "code",
      "source": [
        "!mkdir -p ~/.kaggle\n",
        "!cp kaggle.json ~/.kaggle/\n",
        "!chmod 600 ~/.kaggle/kaggle.json\n"
      ],
      "metadata": {
        "id": "GCX0r0uK5bGu"
      },
      "execution_count": 3,
      "outputs": []
    },
    {
      "cell_type": "code",
      "source": [
        "!kaggle datasets download -d paultimothymooney/chest-xray-pneumonia\n",
        "!unzip -q chest-xray-pneumonia.zip -d data\n"
      ],
      "metadata": {
        "colab": {
          "base_uri": "https://localhost:8080/"
        },
        "id": "6znXsjQA5niS",
        "outputId": "7bb30538-4cef-4a41-ebe0-e41e0d0cd2e6"
      },
      "execution_count": 4,
      "outputs": [
        {
          "output_type": "stream",
          "name": "stdout",
          "text": [
            "Dataset URL: https://www.kaggle.com/datasets/paultimothymooney/chest-xray-pneumonia\n",
            "License(s): other\n",
            "Downloading chest-xray-pneumonia.zip to /content\n",
            "100% 2.29G/2.29G [00:15<00:00, 106MB/s] \n",
            "100% 2.29G/2.29G [00:15<00:00, 156MB/s]\n"
          ]
        }
      ]
    },
    {
      "cell_type": "code",
      "source": [
        "train_dir = \"data/chest_xray/train\"\n",
        "val_dir   = \"data/chest_xray/val\"\n",
        "test_dir  = \"data/chest_xray/test\"\n"
      ],
      "metadata": {
        "id": "chFFA1Uc9Whl"
      },
      "execution_count": 5,
      "outputs": []
    },
    {
      "cell_type": "code",
      "source": [
        "from tensorflow.keras.preprocessing.image import ImageDataGenerator\n",
        "\n",
        "# Data augmentation for training\n",
        "train_datagen = ImageDataGenerator(\n",
        "    rescale=1./255,\n",
        "    rotation_range=20,\n",
        "    zoom_range=0.2,\n",
        "    shear_range=0.2,\n",
        "    horizontal_flip=True\n",
        ")\n",
        "\n",
        "# Validation and test data only rescaled\n",
        "val_datagen = ImageDataGenerator(rescale=1./255)\n",
        "\n",
        "# Training generator\n",
        "train_generator = train_datagen.flow_from_directory(\n",
        "    train_dir,\n",
        "    target_size=(150, 150),\n",
        "    batch_size=32,\n",
        "    class_mode='binary'\n",
        ")\n",
        "\n",
        "# Validation generator\n",
        "val_generator = val_datagen.flow_from_directory(\n",
        "    val_dir,\n",
        "    target_size=(150, 150),\n",
        "    batch_size=32,\n",
        "    class_mode='binary'\n",
        ")\n"
      ],
      "metadata": {
        "colab": {
          "base_uri": "https://localhost:8080/"
        },
        "id": "AP7ZQXpV9X_V",
        "outputId": "1e3e79f2-041f-4a1d-d7c3-8d8bda6fb896"
      },
      "execution_count": 6,
      "outputs": [
        {
          "output_type": "stream",
          "name": "stdout",
          "text": [
            "Found 5216 images belonging to 2 classes.\n",
            "Found 16 images belonging to 2 classes.\n"
          ]
        }
      ]
    },
    {
      "cell_type": "code",
      "source": [
        "from tensorflow.keras.models import Sequential\n",
        "from tensorflow.keras.layers import Conv2D, MaxPooling2D, Flatten, Dense, Dropout\n",
        "\n",
        "# Build CNN\n",
        "model = Sequential([\n",
        "    Conv2D(32, (3,3), activation='relu', input_shape=(150,150,3)),\n",
        "    MaxPooling2D(2,2),\n",
        "\n",
        "    Conv2D(64, (3,3), activation='relu'),\n",
        "    MaxPooling2D(2,2),\n",
        "\n",
        "    Conv2D(128, (3,3), activation='relu'),\n",
        "    MaxPooling2D(2,2),\n",
        "\n",
        "    Flatten(),\n",
        "    Dense(128, activation='relu'),\n",
        "    Dropout(0.5),\n",
        "    Dense(1, activation='sigmoid')  # binary classification: Pneumonia / Normal\n",
        "])\n",
        "\n",
        "# Compile the model\n",
        "model.compile(optimizer='adam', loss='binary_crossentropy', metrics=['accuracy'])\n",
        "\n",
        "# See model summary\n",
        "model.summary()\n",
        "\n"
      ],
      "metadata": {
        "colab": {
          "base_uri": "https://localhost:8080/",
          "height": 531
        },
        "id": "4j5iqKIr94FO",
        "outputId": "0ca8a16c-acf6-4164-9861-885dfab952e3"
      },
      "execution_count": 7,
      "outputs": [
        {
          "output_type": "stream",
          "name": "stderr",
          "text": [
            "/usr/local/lib/python3.12/dist-packages/keras/src/layers/convolutional/base_conv.py:113: UserWarning: Do not pass an `input_shape`/`input_dim` argument to a layer. When using Sequential models, prefer using an `Input(shape)` object as the first layer in the model instead.\n",
            "  super().__init__(activity_regularizer=activity_regularizer, **kwargs)\n"
          ]
        },
        {
          "output_type": "display_data",
          "data": {
            "text/plain": [
              "\u001b[1mModel: \"sequential\"\u001b[0m\n"
            ],
            "text/html": [
              "<pre style=\"white-space:pre;overflow-x:auto;line-height:normal;font-family:Menlo,'DejaVu Sans Mono',consolas,'Courier New',monospace\"><span style=\"font-weight: bold\">Model: \"sequential\"</span>\n",
              "</pre>\n"
            ]
          },
          "metadata": {}
        },
        {
          "output_type": "display_data",
          "data": {
            "text/plain": [
              "┏━━━━━━━━━━━━━━━━━━━━━━━━━━━━━━━━━┳━━━━━━━━━━━━━━━━━━━━━━━━┳━━━━━━━━━━━━━━━┓\n",
              "┃\u001b[1m \u001b[0m\u001b[1mLayer (type)                   \u001b[0m\u001b[1m \u001b[0m┃\u001b[1m \u001b[0m\u001b[1mOutput Shape          \u001b[0m\u001b[1m \u001b[0m┃\u001b[1m \u001b[0m\u001b[1m      Param #\u001b[0m\u001b[1m \u001b[0m┃\n",
              "┡━━━━━━━━━━━━━━━━━━━━━━━━━━━━━━━━━╇━━━━━━━━━━━━━━━━━━━━━━━━╇━━━━━━━━━━━━━━━┩\n",
              "│ conv2d (\u001b[38;5;33mConv2D\u001b[0m)                 │ (\u001b[38;5;45mNone\u001b[0m, \u001b[38;5;34m148\u001b[0m, \u001b[38;5;34m148\u001b[0m, \u001b[38;5;34m32\u001b[0m)   │           \u001b[38;5;34m896\u001b[0m │\n",
              "├─────────────────────────────────┼────────────────────────┼───────────────┤\n",
              "│ max_pooling2d (\u001b[38;5;33mMaxPooling2D\u001b[0m)    │ (\u001b[38;5;45mNone\u001b[0m, \u001b[38;5;34m74\u001b[0m, \u001b[38;5;34m74\u001b[0m, \u001b[38;5;34m32\u001b[0m)     │             \u001b[38;5;34m0\u001b[0m │\n",
              "├─────────────────────────────────┼────────────────────────┼───────────────┤\n",
              "│ conv2d_1 (\u001b[38;5;33mConv2D\u001b[0m)               │ (\u001b[38;5;45mNone\u001b[0m, \u001b[38;5;34m72\u001b[0m, \u001b[38;5;34m72\u001b[0m, \u001b[38;5;34m64\u001b[0m)     │        \u001b[38;5;34m18,496\u001b[0m │\n",
              "├─────────────────────────────────┼────────────────────────┼───────────────┤\n",
              "│ max_pooling2d_1 (\u001b[38;5;33mMaxPooling2D\u001b[0m)  │ (\u001b[38;5;45mNone\u001b[0m, \u001b[38;5;34m36\u001b[0m, \u001b[38;5;34m36\u001b[0m, \u001b[38;5;34m64\u001b[0m)     │             \u001b[38;5;34m0\u001b[0m │\n",
              "├─────────────────────────────────┼────────────────────────┼───────────────┤\n",
              "│ conv2d_2 (\u001b[38;5;33mConv2D\u001b[0m)               │ (\u001b[38;5;45mNone\u001b[0m, \u001b[38;5;34m34\u001b[0m, \u001b[38;5;34m34\u001b[0m, \u001b[38;5;34m128\u001b[0m)    │        \u001b[38;5;34m73,856\u001b[0m │\n",
              "├─────────────────────────────────┼────────────────────────┼───────────────┤\n",
              "│ max_pooling2d_2 (\u001b[38;5;33mMaxPooling2D\u001b[0m)  │ (\u001b[38;5;45mNone\u001b[0m, \u001b[38;5;34m17\u001b[0m, \u001b[38;5;34m17\u001b[0m, \u001b[38;5;34m128\u001b[0m)    │             \u001b[38;5;34m0\u001b[0m │\n",
              "├─────────────────────────────────┼────────────────────────┼───────────────┤\n",
              "│ flatten (\u001b[38;5;33mFlatten\u001b[0m)               │ (\u001b[38;5;45mNone\u001b[0m, \u001b[38;5;34m36992\u001b[0m)          │             \u001b[38;5;34m0\u001b[0m │\n",
              "├─────────────────────────────────┼────────────────────────┼───────────────┤\n",
              "│ dense (\u001b[38;5;33mDense\u001b[0m)                   │ (\u001b[38;5;45mNone\u001b[0m, \u001b[38;5;34m128\u001b[0m)            │     \u001b[38;5;34m4,735,104\u001b[0m │\n",
              "├─────────────────────────────────┼────────────────────────┼───────────────┤\n",
              "│ dropout (\u001b[38;5;33mDropout\u001b[0m)               │ (\u001b[38;5;45mNone\u001b[0m, \u001b[38;5;34m128\u001b[0m)            │             \u001b[38;5;34m0\u001b[0m │\n",
              "├─────────────────────────────────┼────────────────────────┼───────────────┤\n",
              "│ dense_1 (\u001b[38;5;33mDense\u001b[0m)                 │ (\u001b[38;5;45mNone\u001b[0m, \u001b[38;5;34m1\u001b[0m)              │           \u001b[38;5;34m129\u001b[0m │\n",
              "└─────────────────────────────────┴────────────────────────┴───────────────┘\n"
            ],
            "text/html": [
              "<pre style=\"white-space:pre;overflow-x:auto;line-height:normal;font-family:Menlo,'DejaVu Sans Mono',consolas,'Courier New',monospace\">┏━━━━━━━━━━━━━━━━━━━━━━━━━━━━━━━━━┳━━━━━━━━━━━━━━━━━━━━━━━━┳━━━━━━━━━━━━━━━┓\n",
              "┃<span style=\"font-weight: bold\"> Layer (type)                    </span>┃<span style=\"font-weight: bold\"> Output Shape           </span>┃<span style=\"font-weight: bold\">       Param # </span>┃\n",
              "┡━━━━━━━━━━━━━━━━━━━━━━━━━━━━━━━━━╇━━━━━━━━━━━━━━━━━━━━━━━━╇━━━━━━━━━━━━━━━┩\n",
              "│ conv2d (<span style=\"color: #0087ff; text-decoration-color: #0087ff\">Conv2D</span>)                 │ (<span style=\"color: #00d7ff; text-decoration-color: #00d7ff\">None</span>, <span style=\"color: #00af00; text-decoration-color: #00af00\">148</span>, <span style=\"color: #00af00; text-decoration-color: #00af00\">148</span>, <span style=\"color: #00af00; text-decoration-color: #00af00\">32</span>)   │           <span style=\"color: #00af00; text-decoration-color: #00af00\">896</span> │\n",
              "├─────────────────────────────────┼────────────────────────┼───────────────┤\n",
              "│ max_pooling2d (<span style=\"color: #0087ff; text-decoration-color: #0087ff\">MaxPooling2D</span>)    │ (<span style=\"color: #00d7ff; text-decoration-color: #00d7ff\">None</span>, <span style=\"color: #00af00; text-decoration-color: #00af00\">74</span>, <span style=\"color: #00af00; text-decoration-color: #00af00\">74</span>, <span style=\"color: #00af00; text-decoration-color: #00af00\">32</span>)     │             <span style=\"color: #00af00; text-decoration-color: #00af00\">0</span> │\n",
              "├─────────────────────────────────┼────────────────────────┼───────────────┤\n",
              "│ conv2d_1 (<span style=\"color: #0087ff; text-decoration-color: #0087ff\">Conv2D</span>)               │ (<span style=\"color: #00d7ff; text-decoration-color: #00d7ff\">None</span>, <span style=\"color: #00af00; text-decoration-color: #00af00\">72</span>, <span style=\"color: #00af00; text-decoration-color: #00af00\">72</span>, <span style=\"color: #00af00; text-decoration-color: #00af00\">64</span>)     │        <span style=\"color: #00af00; text-decoration-color: #00af00\">18,496</span> │\n",
              "├─────────────────────────────────┼────────────────────────┼───────────────┤\n",
              "│ max_pooling2d_1 (<span style=\"color: #0087ff; text-decoration-color: #0087ff\">MaxPooling2D</span>)  │ (<span style=\"color: #00d7ff; text-decoration-color: #00d7ff\">None</span>, <span style=\"color: #00af00; text-decoration-color: #00af00\">36</span>, <span style=\"color: #00af00; text-decoration-color: #00af00\">36</span>, <span style=\"color: #00af00; text-decoration-color: #00af00\">64</span>)     │             <span style=\"color: #00af00; text-decoration-color: #00af00\">0</span> │\n",
              "├─────────────────────────────────┼────────────────────────┼───────────────┤\n",
              "│ conv2d_2 (<span style=\"color: #0087ff; text-decoration-color: #0087ff\">Conv2D</span>)               │ (<span style=\"color: #00d7ff; text-decoration-color: #00d7ff\">None</span>, <span style=\"color: #00af00; text-decoration-color: #00af00\">34</span>, <span style=\"color: #00af00; text-decoration-color: #00af00\">34</span>, <span style=\"color: #00af00; text-decoration-color: #00af00\">128</span>)    │        <span style=\"color: #00af00; text-decoration-color: #00af00\">73,856</span> │\n",
              "├─────────────────────────────────┼────────────────────────┼───────────────┤\n",
              "│ max_pooling2d_2 (<span style=\"color: #0087ff; text-decoration-color: #0087ff\">MaxPooling2D</span>)  │ (<span style=\"color: #00d7ff; text-decoration-color: #00d7ff\">None</span>, <span style=\"color: #00af00; text-decoration-color: #00af00\">17</span>, <span style=\"color: #00af00; text-decoration-color: #00af00\">17</span>, <span style=\"color: #00af00; text-decoration-color: #00af00\">128</span>)    │             <span style=\"color: #00af00; text-decoration-color: #00af00\">0</span> │\n",
              "├─────────────────────────────────┼────────────────────────┼───────────────┤\n",
              "│ flatten (<span style=\"color: #0087ff; text-decoration-color: #0087ff\">Flatten</span>)               │ (<span style=\"color: #00d7ff; text-decoration-color: #00d7ff\">None</span>, <span style=\"color: #00af00; text-decoration-color: #00af00\">36992</span>)          │             <span style=\"color: #00af00; text-decoration-color: #00af00\">0</span> │\n",
              "├─────────────────────────────────┼────────────────────────┼───────────────┤\n",
              "│ dense (<span style=\"color: #0087ff; text-decoration-color: #0087ff\">Dense</span>)                   │ (<span style=\"color: #00d7ff; text-decoration-color: #00d7ff\">None</span>, <span style=\"color: #00af00; text-decoration-color: #00af00\">128</span>)            │     <span style=\"color: #00af00; text-decoration-color: #00af00\">4,735,104</span> │\n",
              "├─────────────────────────────────┼────────────────────────┼───────────────┤\n",
              "│ dropout (<span style=\"color: #0087ff; text-decoration-color: #0087ff\">Dropout</span>)               │ (<span style=\"color: #00d7ff; text-decoration-color: #00d7ff\">None</span>, <span style=\"color: #00af00; text-decoration-color: #00af00\">128</span>)            │             <span style=\"color: #00af00; text-decoration-color: #00af00\">0</span> │\n",
              "├─────────────────────────────────┼────────────────────────┼───────────────┤\n",
              "│ dense_1 (<span style=\"color: #0087ff; text-decoration-color: #0087ff\">Dense</span>)                 │ (<span style=\"color: #00d7ff; text-decoration-color: #00d7ff\">None</span>, <span style=\"color: #00af00; text-decoration-color: #00af00\">1</span>)              │           <span style=\"color: #00af00; text-decoration-color: #00af00\">129</span> │\n",
              "└─────────────────────────────────┴────────────────────────┴───────────────┘\n",
              "</pre>\n"
            ]
          },
          "metadata": {}
        },
        {
          "output_type": "display_data",
          "data": {
            "text/plain": [
              "\u001b[1m Total params: \u001b[0m\u001b[38;5;34m4,828,481\u001b[0m (18.42 MB)\n"
            ],
            "text/html": [
              "<pre style=\"white-space:pre;overflow-x:auto;line-height:normal;font-family:Menlo,'DejaVu Sans Mono',consolas,'Courier New',monospace\"><span style=\"font-weight: bold\"> Total params: </span><span style=\"color: #00af00; text-decoration-color: #00af00\">4,828,481</span> (18.42 MB)\n",
              "</pre>\n"
            ]
          },
          "metadata": {}
        },
        {
          "output_type": "display_data",
          "data": {
            "text/plain": [
              "\u001b[1m Trainable params: \u001b[0m\u001b[38;5;34m4,828,481\u001b[0m (18.42 MB)\n"
            ],
            "text/html": [
              "<pre style=\"white-space:pre;overflow-x:auto;line-height:normal;font-family:Menlo,'DejaVu Sans Mono',consolas,'Courier New',monospace\"><span style=\"font-weight: bold\"> Trainable params: </span><span style=\"color: #00af00; text-decoration-color: #00af00\">4,828,481</span> (18.42 MB)\n",
              "</pre>\n"
            ]
          },
          "metadata": {}
        },
        {
          "output_type": "display_data",
          "data": {
            "text/plain": [
              "\u001b[1m Non-trainable params: \u001b[0m\u001b[38;5;34m0\u001b[0m (0.00 B)\n"
            ],
            "text/html": [
              "<pre style=\"white-space:pre;overflow-x:auto;line-height:normal;font-family:Menlo,'DejaVu Sans Mono',consolas,'Courier New',monospace\"><span style=\"font-weight: bold\"> Non-trainable params: </span><span style=\"color: #00af00; text-decoration-color: #00af00\">0</span> (0.00 B)\n",
              "</pre>\n"
            ]
          },
          "metadata": {}
        }
      ]
    },
    {
      "cell_type": "code",
      "source": [
        "history = model.fit(\n",
        "    train_generator,\n",
        "    epochs=5,  # hackathon demo: enough to see results\n",
        "    validation_data=val_generator\n",
        ")\n",
        "\n"
      ],
      "metadata": {
        "colab": {
          "base_uri": "https://localhost:8080/"
        },
        "id": "rXj4hlIp98x6",
        "outputId": "78d75400-8393-4fdf-d495-aa2c25c3a9a1"
      },
      "execution_count": 8,
      "outputs": [
        {
          "output_type": "stream",
          "name": "stderr",
          "text": [
            "/usr/local/lib/python3.12/dist-packages/keras/src/trainers/data_adapters/py_dataset_adapter.py:121: UserWarning: Your `PyDataset` class should call `super().__init__(**kwargs)` in its constructor. `**kwargs` can include `workers`, `use_multiprocessing`, `max_queue_size`. Do not pass these arguments to `fit()`, as they will be ignored.\n",
            "  self._warn_if_super_not_called()\n"
          ]
        },
        {
          "output_type": "stream",
          "name": "stdout",
          "text": [
            "Epoch 1/5\n",
            "\u001b[1m163/163\u001b[0m \u001b[32m━━━━━━━━━━━━━━━━━━━━\u001b[0m\u001b[37m\u001b[0m \u001b[1m0s\u001b[0m 437ms/step - accuracy: 0.7680 - loss: 0.5554"
          ]
        },
        {
          "output_type": "stream",
          "name": "stderr",
          "text": [
            "/usr/local/lib/python3.12/dist-packages/keras/src/trainers/data_adapters/py_dataset_adapter.py:121: UserWarning: Your `PyDataset` class should call `super().__init__(**kwargs)` in its constructor. `**kwargs` can include `workers`, `use_multiprocessing`, `max_queue_size`. Do not pass these arguments to `fit()`, as they will be ignored.\n",
            "  self._warn_if_super_not_called()\n"
          ]
        },
        {
          "output_type": "stream",
          "name": "stdout",
          "text": [
            "\b\b\b\b\b\b\b\b\b\b\b\b\b\b\b\b\b\b\b\b\b\b\b\b\b\b\b\b\b\b\b\b\b\b\b\b\b\b\b\b\b\b\b\b\b\b\b\b\b\b\b\b\b\b\b\b\b\b\b\b\b\b\b\b\b\b\b\b\b\b\b\b\b\b\b\b\r\u001b[1m163/163\u001b[0m \u001b[32m━━━━━━━━━━━━━━━━━━━━\u001b[0m\u001b[37m\u001b[0m \u001b[1m79s\u001b[0m 444ms/step - accuracy: 0.7682 - loss: 0.5547 - val_accuracy: 0.6875 - val_loss: 0.6793\n",
            "Epoch 2/5\n",
            "\u001b[1m163/163\u001b[0m \u001b[32m━━━━━━━━━━━━━━━━━━━━\u001b[0m\u001b[37m\u001b[0m \u001b[1m75s\u001b[0m 430ms/step - accuracy: 0.8789 - loss: 0.2861 - val_accuracy: 0.6250 - val_loss: 1.1714\n",
            "Epoch 3/5\n",
            "\u001b[1m163/163\u001b[0m \u001b[32m━━━━━━━━━━━━━━━━━━━━\u001b[0m\u001b[37m\u001b[0m \u001b[1m71s\u001b[0m 433ms/step - accuracy: 0.8829 - loss: 0.2598 - val_accuracy: 0.6875 - val_loss: 0.5645\n",
            "Epoch 4/5\n",
            "\u001b[1m163/163\u001b[0m \u001b[32m━━━━━━━━━━━━━━━━━━━━\u001b[0m\u001b[37m\u001b[0m \u001b[1m72s\u001b[0m 443ms/step - accuracy: 0.9105 - loss: 0.2166 - val_accuracy: 0.6250 - val_loss: 1.1532\n",
            "Epoch 5/5\n",
            "\u001b[1m163/163\u001b[0m \u001b[32m━━━━━━━━━━━━━━━━━━━━\u001b[0m\u001b[37m\u001b[0m \u001b[1m70s\u001b[0m 431ms/step - accuracy: 0.9233 - loss: 0.1966 - val_accuracy: 0.5625 - val_loss: 1.0923\n"
          ]
        }
      ]
    },
    {
      "cell_type": "code",
      "source": [
        "model.save(\"/content/drive/MyDrive/Colab Notebooks/chest_xray/pneumonia_model.h5\")"
      ],
      "metadata": {
        "colab": {
          "base_uri": "https://localhost:8080/"
        },
        "id": "PHglvIVUr5gK",
        "outputId": "8513dbe3-a621-4c9e-b3a6-2ce0a141e10e"
      },
      "execution_count": 9,
      "outputs": [
        {
          "output_type": "stream",
          "name": "stderr",
          "text": [
            "WARNING:absl:You are saving your model as an HDF5 file via `model.save()` or `keras.saving.save_model(model)`. This file format is considered legacy. We recommend using instead the native Keras format, e.g. `model.save('my_model.keras')` or `keras.saving.save_model(model, 'my_model.keras')`. \n"
          ]
        }
      ]
    },
    {
      "cell_type": "code",
      "source": [
        "import gradio as gr\n",
        "import tensorflow as tf\n",
        "from tensorflow.keras.models import load_model\n",
        "from tensorflow.keras.preprocessing import image\n",
        "import numpy as np\n",
        "from PIL import Image\n",
        "\n",
        "# Load the saved model\n",
        "model_path = \"/content/drive/MyDrive/Colab Notebooks/chest_xray/pneumonia_model.h5\"\n",
        "model = load_model(model_path)\n",
        "\n",
        "# Class names\n",
        "class_names = [\"Normal\", \"Pneumonia\"]\n",
        "\n",
        "# Image preprocessing function\n",
        "def predict_pneumonia(img):\n",
        "    # Ensure the image is RGB\n",
        "    if img.mode != \"RGB\":\n",
        "        img = img.convert(\"RGB\")\n",
        "\n",
        "    # Resize to model input size (adjust if your model input is different)\n",
        "    img = img.resize((150, 150))\n",
        "    img_array = image.img_to_array(img)\n",
        "    img_array = np.expand_dims(img_array, axis=0)  # Add batch dimension\n",
        "    img_array /= 255.0  # Normalize\n",
        "\n",
        "    # Predict\n",
        "    prediction = model.predict(img_array)[0][0]\n",
        "\n",
        "    # If model outputs a single neuron with sigmoid\n",
        "    if prediction > 0.5:\n",
        "        result = \"Pneumonia\"\n",
        "        confidence = prediction\n",
        "    else:\n",
        "        result = \"Normal\"\n",
        "        confidence = 1 - prediction\n",
        "\n",
        "    return {result: float(confidence)}\n",
        "\n",
        "# Gradio interface\n",
        "title = \"Chest X-Ray Pneumonia Detection 🫁\"\n",
        "description = \"Upload a chest X-ray image, and the model will predict whether it's **Normal** or **Pneumonia**. The model was trained on real chest X-ray images.\"\n",
        "\n",
        "interface = gr.Interface(\n",
        "    fn=predict_pneumonia,\n",
        "    inputs=gr.Image(type=\"pil\", label=\"Upload Chest X-Ray\"),\n",
        "    outputs=gr.Label(num_top_classes=2, label=\"Prediction\"),\n",
        "    title=title,\n",
        "    description=description,\n",
        "    theme=\"default\",\n",
        "    allow_flagging=\"never\",\n",
        ")\n",
        "\n",
        "# Launch the app\n",
        "interface.launch()\n"
      ],
      "metadata": {
        "colab": {
          "base_uri": "https://localhost:8080/",
          "height": 697
        },
        "id": "QXq8eDKptdtv",
        "outputId": "388b693a-12e8-4f6f-f6ab-9bc2b39415ea"
      },
      "execution_count": 15,
      "outputs": [
        {
          "output_type": "stream",
          "name": "stderr",
          "text": [
            "WARNING:absl:Compiled the loaded model, but the compiled metrics have yet to be built. `model.compile_metrics` will be empty until you train or evaluate the model.\n",
            "/usr/local/lib/python3.12/dist-packages/gradio/interface.py:414: UserWarning: The `allow_flagging` parameter in `Interface` is deprecated. Use `flagging_mode` instead.\n",
            "  warnings.warn(\n"
          ]
        },
        {
          "output_type": "stream",
          "name": "stdout",
          "text": [
            "It looks like you are running Gradio on a hosted Jupyter notebook, which requires `share=True`. Automatically setting `share=True` (you can turn this off by setting `share=False` in `launch()` explicitly).\n",
            "\n",
            "Colab notebook detected. To show errors in colab notebook, set debug=True in launch()\n",
            "* Running on public URL: https://062607447c900aba78.gradio.live\n",
            "\n",
            "This share link expires in 1 week. For free permanent hosting and GPU upgrades, run `gradio deploy` from the terminal in the working directory to deploy to Hugging Face Spaces (https://huggingface.co/spaces)\n"
          ]
        },
        {
          "output_type": "display_data",
          "data": {
            "text/plain": [
              "<IPython.core.display.HTML object>"
            ],
            "text/html": [
              "<div><iframe src=\"https://062607447c900aba78.gradio.live\" width=\"100%\" height=\"500\" allow=\"autoplay; camera; microphone; clipboard-read; clipboard-write;\" frameborder=\"0\" allowfullscreen></iframe></div>"
            ]
          },
          "metadata": {}
        },
        {
          "output_type": "execute_result",
          "data": {
            "text/plain": []
          },
          "metadata": {},
          "execution_count": 15
        }
      ]
    },
    {
      "cell_type": "code",
      "source": [
        "# Preprocess test data\n",
        "from tensorflow.keras.preprocessing.image import ImageDataGenerator\n",
        "\n",
        "test_datagen = ImageDataGenerator(rescale=1./255)\n",
        "\n",
        "test_generator = test_datagen.flow_from_directory(\n",
        "    \"data/chest_xray/test\",\n",
        "    target_size=(150,150),\n",
        "    batch_size=32,\n",
        "    class_mode='binary'\n",
        ")\n",
        "\n",
        "# Evaluate\n",
        "loss, acc = model.evaluate(test_generator)\n",
        "print(f\"✅ Test Accuracy: {acc*100:.2f}%\")\n"
      ],
      "metadata": {
        "colab": {
          "base_uri": "https://localhost:8080/"
        },
        "id": "mzPfDJbnDN_7",
        "outputId": "016ea10b-2455-492e-fa6d-6775fe039675"
      },
      "execution_count": null,
      "outputs": [
        {
          "output_type": "stream",
          "name": "stdout",
          "text": [
            "Found 624 images belonging to 2 classes.\n",
            "\u001b[1m20/20\u001b[0m \u001b[32m━━━━━━━━━━━━━━━━━━━━\u001b[0m\u001b[37m\u001b[0m \u001b[1m11s\u001b[0m 556ms/step - accuracy: 0.8926 - loss: 0.3467\n",
            "✅ Test Accuracy: 87.82%\n"
          ]
        }
      ]
    },
    {
      "cell_type": "code",
      "source": [
        "!ls data/chest_xray/test/NORMAL\n",
        "!ls data/chest_xray/test/PNEUMONIA\n",
        "\n"
      ],
      "metadata": {
        "colab": {
          "base_uri": "https://localhost:8080/"
        },
        "id": "AB-k7wqFDZg2",
        "outputId": "8fb179a0-7804-4e32-9c93-a952b71d3c88"
      },
      "execution_count": null,
      "outputs": [
        {
          "output_type": "stream",
          "name": "stdout",
          "text": [
            "IM-0001-0001.jpeg\t   NORMAL2-IM-0173-0001-0001.jpeg\n",
            "IM-0003-0001.jpeg\t   NORMAL2-IM-0173-0001-0002.jpeg\n",
            "IM-0005-0001.jpeg\t   NORMAL2-IM-0195-0001.jpeg\n",
            "IM-0006-0001.jpeg\t   NORMAL2-IM-0196-0001.jpeg\n",
            "IM-0007-0001.jpeg\t   NORMAL2-IM-0198-0001.jpeg\n",
            "IM-0009-0001.jpeg\t   NORMAL2-IM-0199-0001.jpeg\n",
            "IM-0010-0001.jpeg\t   NORMAL2-IM-0201-0001.jpeg\n",
            "IM-0011-0001-0001.jpeg\t   NORMAL2-IM-0206-0001.jpeg\n",
            "IM-0011-0001-0002.jpeg\t   NORMAL2-IM-0207-0001.jpeg\n",
            "IM-0011-0001.jpeg\t   NORMAL2-IM-0210-0001.jpeg\n",
            "IM-0013-0001.jpeg\t   NORMAL2-IM-0213-0001.jpeg\n",
            "IM-0015-0001.jpeg\t   NORMAL2-IM-0217-0001.jpeg\n",
            "IM-0016-0001.jpeg\t   NORMAL2-IM-0219-0001.jpeg\n",
            "IM-0017-0001.jpeg\t   NORMAL2-IM-0221-0001.jpeg\n",
            "IM-0019-0001.jpeg\t   NORMAL2-IM-0222-0001.jpeg\n",
            "IM-0021-0001.jpeg\t   NORMAL2-IM-0229-0001.jpeg\n",
            "IM-0022-0001.jpeg\t   NORMAL2-IM-0232-0001.jpeg\n",
            "IM-0023-0001.jpeg\t   NORMAL2-IM-0233-0001.jpeg\n",
            "IM-0025-0001.jpeg\t   NORMAL2-IM-0237-0001.jpeg\n",
            "IM-0027-0001.jpeg\t   NORMAL2-IM-0238-0001.jpeg\n",
            "IM-0028-0001.jpeg\t   NORMAL2-IM-0241-0001.jpeg\n",
            "IM-0029-0001.jpeg\t   NORMAL2-IM-0246-0001-0001.jpeg\n",
            "IM-0030-0001.jpeg\t   NORMAL2-IM-0246-0001-0002.jpeg\n",
            "IM-0031-0001.jpeg\t   NORMAL2-IM-0246-0001.jpeg\n",
            "IM-0033-0001-0001.jpeg\t   NORMAL2-IM-0249-0001.jpeg\n",
            "IM-0033-0001-0002.jpeg\t   NORMAL2-IM-0251-0001.jpeg\n",
            "IM-0033-0001.jpeg\t   NORMAL2-IM-0252-0001.jpeg\n",
            "IM-0035-0001.jpeg\t   NORMAL2-IM-0256-0001.jpeg\n",
            "IM-0036-0001.jpeg\t   NORMAL2-IM-0259-0001.jpeg\n",
            "IM-0037-0001.jpeg\t   NORMAL2-IM-0267-0001.jpeg\n",
            "IM-0039-0001.jpeg\t   NORMAL2-IM-0271-0001.jpeg\n",
            "IM-0041-0001.jpeg\t   NORMAL2-IM-0272-0001.jpeg\n",
            "IM-0043-0001.jpeg\t   NORMAL2-IM-0273-0001.jpeg\n",
            "IM-0045-0001.jpeg\t   NORMAL2-IM-0274-0001.jpeg\n",
            "IM-0046-0001.jpeg\t   NORMAL2-IM-0275-0001.jpeg\n",
            "IM-0049-0001.jpeg\t   NORMAL2-IM-0276-0001.jpeg\n",
            "IM-0050-0001.jpeg\t   NORMAL2-IM-0277-0001.jpeg\n",
            "IM-0059-0001.jpeg\t   NORMAL2-IM-0278-0001.jpeg\n",
            "IM-0061-0001.jpeg\t   NORMAL2-IM-0279-0001.jpeg\n",
            "IM-0063-0001.jpeg\t   NORMAL2-IM-0280-0001.jpeg\n",
            "IM-0065-0001.jpeg\t   NORMAL2-IM-0281-0001.jpeg\n",
            "IM-0067-0001.jpeg\t   NORMAL2-IM-0282-0001.jpeg\n",
            "IM-0069-0001.jpeg\t   NORMAL2-IM-0283-0001.jpeg\n",
            "IM-0070-0001.jpeg\t   NORMAL2-IM-0285-0001.jpeg\n",
            "IM-0071-0001.jpeg\t   NORMAL2-IM-0286-0001.jpeg\n",
            "IM-0073-0001.jpeg\t   NORMAL2-IM-0287-0001.jpeg\n",
            "IM-0075-0001.jpeg\t   NORMAL2-IM-0288-0001.jpeg\n",
            "IM-0077-0001.jpeg\t   NORMAL2-IM-0289-0001.jpeg\n",
            "IM-0079-0001.jpeg\t   NORMAL2-IM-0290-0001.jpeg\n",
            "IM-0081-0001.jpeg\t   NORMAL2-IM-0292-0001.jpeg\n",
            "IM-0083-0001.jpeg\t   NORMAL2-IM-0294-0001.jpeg\n",
            "IM-0084-0001.jpeg\t   NORMAL2-IM-0297-0001.jpeg\n",
            "IM-0085-0001.jpeg\t   NORMAL2-IM-0300-0001.jpeg\n",
            "IM-0086-0001.jpeg\t   NORMAL2-IM-0301-0001.jpeg\n",
            "IM-0087-0001.jpeg\t   NORMAL2-IM-0302-0001.jpeg\n",
            "IM-0089-0001.jpeg\t   NORMAL2-IM-0303-0001.jpeg\n",
            "IM-0091-0001.jpeg\t   NORMAL2-IM-0304-0001.jpeg\n",
            "IM-0093-0001.jpeg\t   NORMAL2-IM-0305-0001.jpeg\n",
            "IM-0095-0001.jpeg\t   NORMAL2-IM-0307-0001.jpeg\n",
            "IM-0097-0001.jpeg\t   NORMAL2-IM-0309-0001.jpeg\n",
            "IM-0099-0001.jpeg\t   NORMAL2-IM-0310-0001.jpeg\n",
            "IM-0101-0001.jpeg\t   NORMAL2-IM-0311-0001.jpeg\n",
            "IM-0102-0001.jpeg\t   NORMAL2-IM-0312-0001.jpeg\n",
            "IM-0103-0001.jpeg\t   NORMAL2-IM-0313-0001.jpeg\n",
            "IM-0105-0001.jpeg\t   NORMAL2-IM-0315-0001.jpeg\n",
            "IM-0107-0001.jpeg\t   NORMAL2-IM-0316-0001.jpeg\n",
            "IM-0109-0001.jpeg\t   NORMAL2-IM-0317-0001.jpeg\n",
            "IM-0110-0001.jpeg\t   NORMAL2-IM-0319-0001.jpeg\n",
            "IM-0111-0001.jpeg\t   NORMAL2-IM-0321-0001.jpeg\n",
            "NORMAL2-IM-0007-0001.jpeg  NORMAL2-IM-0322-0001.jpeg\n",
            "NORMAL2-IM-0012-0001.jpeg  NORMAL2-IM-0323-0001.jpeg\n",
            "NORMAL2-IM-0013-0001.jpeg  NORMAL2-IM-0325-0001.jpeg\n",
            "NORMAL2-IM-0019-0001.jpeg  NORMAL2-IM-0326-0001.jpeg\n",
            "NORMAL2-IM-0023-0001.jpeg  NORMAL2-IM-0327-0001.jpeg\n",
            "NORMAL2-IM-0027-0001.jpeg  NORMAL2-IM-0328-0001.jpeg\n",
            "NORMAL2-IM-0028-0001.jpeg  NORMAL2-IM-0329-0001.jpeg\n",
            "NORMAL2-IM-0029-0001.jpeg  NORMAL2-IM-0330-0001.jpeg\n",
            "NORMAL2-IM-0030-0001.jpeg  NORMAL2-IM-0331-0001.jpeg\n",
            "NORMAL2-IM-0033-0001.jpeg  NORMAL2-IM-0332-0001.jpeg\n",
            "NORMAL2-IM-0035-0001.jpeg  NORMAL2-IM-0333-0001.jpeg\n",
            "NORMAL2-IM-0041-0001.jpeg  NORMAL2-IM-0335-0001.jpeg\n",
            "NORMAL2-IM-0045-0001.jpeg  NORMAL2-IM-0336-0001.jpeg\n",
            "NORMAL2-IM-0051-0001.jpeg  NORMAL2-IM-0337-0001.jpeg\n",
            "NORMAL2-IM-0052-0001.jpeg  NORMAL2-IM-0338-0001.jpeg\n",
            "NORMAL2-IM-0058-0001.jpeg  NORMAL2-IM-0339-0001.jpeg\n",
            "NORMAL2-IM-0059-0001.jpeg  NORMAL2-IM-0340-0001.jpeg\n",
            "NORMAL2-IM-0060-0001.jpeg  NORMAL2-IM-0341-0001.jpeg\n",
            "NORMAL2-IM-0066-0001.jpeg  NORMAL2-IM-0343-0001.jpeg\n",
            "NORMAL2-IM-0072-0001.jpeg  NORMAL2-IM-0345-0001.jpeg\n",
            "NORMAL2-IM-0073-0001.jpeg  NORMAL2-IM-0346-0001.jpeg\n",
            "NORMAL2-IM-0079-0001.jpeg  NORMAL2-IM-0347-0001.jpeg\n",
            "NORMAL2-IM-0081-0001.jpeg  NORMAL2-IM-0348-0001.jpeg\n",
            "NORMAL2-IM-0086-0001.jpeg  NORMAL2-IM-0349-0001.jpeg\n",
            "NORMAL2-IM-0092-0001.jpeg  NORMAL2-IM-0350-0001.jpeg\n",
            "NORMAL2-IM-0095-0001.jpeg  NORMAL2-IM-0351-0001.jpeg\n",
            "NORMAL2-IM-0096-0001.jpeg  NORMAL2-IM-0352-0001.jpeg\n",
            "NORMAL2-IM-0098-0001.jpeg  NORMAL2-IM-0353-0001.jpeg\n",
            "NORMAL2-IM-0102-0001.jpeg  NORMAL2-IM-0354-0001.jpeg\n",
            "NORMAL2-IM-0105-0001.jpeg  NORMAL2-IM-0357-0001.jpeg\n",
            "NORMAL2-IM-0107-0001.jpeg  NORMAL2-IM-0359-0001.jpeg\n",
            "NORMAL2-IM-0110-0001.jpeg  NORMAL2-IM-0360-0001.jpeg\n",
            "NORMAL2-IM-0111-0001.jpeg  NORMAL2-IM-0361-0001.jpeg\n",
            "NORMAL2-IM-0112-0001.jpeg  NORMAL2-IM-0362-0001.jpeg\n",
            "NORMAL2-IM-0117-0001.jpeg  NORMAL2-IM-0364-0001.jpeg\n",
            "NORMAL2-IM-0120-0001.jpeg  NORMAL2-IM-0366-0001.jpeg\n",
            "NORMAL2-IM-0123-0001.jpeg  NORMAL2-IM-0368-0001.jpeg\n",
            "NORMAL2-IM-0129-0001.jpeg  NORMAL2-IM-0369-0001.jpeg\n",
            "NORMAL2-IM-0130-0001.jpeg  NORMAL2-IM-0370-0001.jpeg\n",
            "NORMAL2-IM-0131-0001.jpeg  NORMAL2-IM-0372-0001.jpeg\n",
            "NORMAL2-IM-0132-0001.jpeg  NORMAL2-IM-0373-0001.jpeg\n",
            "NORMAL2-IM-0135-0001.jpeg  NORMAL2-IM-0374-0001-0001.jpeg\n",
            "NORMAL2-IM-0139-0001.jpeg  NORMAL2-IM-0374-0001-0002.jpeg\n",
            "NORMAL2-IM-0141-0001.jpeg  NORMAL2-IM-0374-0001.jpeg\n",
            "NORMAL2-IM-0145-0001.jpeg  NORMAL2-IM-0376-0001.jpeg\n",
            "NORMAL2-IM-0146-0001.jpeg  NORMAL2-IM-0378-0001.jpeg\n",
            "NORMAL2-IM-0150-0001.jpeg  NORMAL2-IM-0380-0001.jpeg\n",
            "NORMAL2-IM-0171-0001.jpeg  NORMAL2-IM-0381-0001.jpeg\n",
            "person100_bacteria_475.jpeg  person1633_virus_2829.jpeg\n",
            "person100_bacteria_477.jpeg  person1634_virus_2830.jpeg\n",
            "person100_bacteria_478.jpeg  person1635_virus_2831.jpeg\n",
            "person100_bacteria_479.jpeg  person1637_virus_2834.jpeg\n",
            "person100_bacteria_480.jpeg  person1640_virus_2839.jpeg\n",
            "person100_bacteria_481.jpeg  person1641_virus_2840.jpeg\n",
            "person100_bacteria_482.jpeg  person1642_virus_2842.jpeg\n",
            "person101_bacteria_483.jpeg  person1643_virus_2843.jpeg\n",
            "person101_bacteria_484.jpeg  person1644_virus_2844.jpeg\n",
            "person101_bacteria_485.jpeg  person1645_virus_2845.jpeg\n",
            "person101_bacteria_486.jpeg  person1647_virus_2848.jpeg\n",
            "person102_bacteria_487.jpeg  person1649_virus_2850.jpeg\n",
            "person103_bacteria_488.jpeg  person1650_virus_2852.jpeg\n",
            "person103_bacteria_489.jpeg  person1650_virus_2854.jpeg\n",
            "person103_bacteria_490.jpeg  person1651_virus_2855.jpeg\n",
            "person104_bacteria_491.jpeg  person1653_virus_2858.jpeg\n",
            "person104_bacteria_492.jpeg  person1653_virus_2859.jpeg\n",
            "person108_bacteria_504.jpeg  person1655_virus_2861.jpeg\n",
            "person108_bacteria_506.jpeg  person1656_virus_2862.jpeg\n",
            "person108_bacteria_507.jpeg  person1657_virus_2864.jpeg\n",
            "person108_bacteria_511.jpeg  person1659_virus_2867.jpeg\n",
            "person109_bacteria_512.jpeg  person1660_virus_2869.jpeg\n",
            "person109_bacteria_513.jpeg  person1661_virus_2872.jpeg\n",
            "person109_bacteria_517.jpeg  person1661_virus_2873.jpeg\n",
            "person109_bacteria_519.jpeg  person1662_virus_2875.jpeg\n",
            "person109_bacteria_522.jpeg  person1663_virus_2876.jpeg\n",
            "person109_bacteria_523.jpeg  person1664_virus_2877.jpeg\n",
            "person109_bacteria_526.jpeg  person1665_virus_2878.jpeg\n",
            "person109_bacteria_527.jpeg  person1667_virus_2881.jpeg\n",
            "person109_bacteria_528.jpeg  person1668_virus_2882.jpeg\n",
            "person10_virus_35.jpeg\t     person1669_virus_2884.jpeg\n",
            "person110_bacteria_531.jpeg  person1669_virus_2885.jpeg\n",
            "person111_bacteria_533.jpeg  person1670_virus_2886.jpeg\n",
            "person111_bacteria_534.jpeg  person1671_virus_2887.jpeg\n",
            "person111_bacteria_535.jpeg  person1672_virus_2888.jpeg\n",
            "person111_bacteria_536.jpeg  person1673_virus_2889.jpeg\n",
            "person111_bacteria_537.jpeg  person1674_virus_2890.jpeg\n",
            "person112_bacteria_538.jpeg  person1675_virus_2891.jpeg\n",
            "person112_bacteria_539.jpeg  person1676_virus_2892.jpeg\n",
            "person113_bacteria_540.jpeg  person1678_virus_2895.jpeg\n",
            "person113_bacteria_541.jpeg  person1679_virus_2896.jpeg\n",
            "person113_bacteria_542.jpeg  person1680_virus_2897.jpeg\n",
            "person113_bacteria_543.jpeg  person1682_virus_2899.jpeg\n",
            "person114_bacteria_544.jpeg  person1685_virus_2903.jpeg\n",
            "person114_bacteria_545.jpeg  person16_virus_47.jpeg\n",
            "person114_bacteria_546.jpeg  person171_bacteria_826.jpeg\n",
            "person117_bacteria_553.jpeg  person172_bacteria_827.jpeg\n",
            "person117_bacteria_556.jpeg  person172_bacteria_828.jpeg\n",
            "person117_bacteria_557.jpeg  person173_bacteria_829.jpeg\n",
            "person118_bacteria_559.jpeg  person173_bacteria_830.jpeg\n",
            "person118_bacteria_560.jpeg  person173_bacteria_831.jpeg\n",
            "person119_bacteria_565.jpeg  person174_bacteria_832.jpeg\n",
            "person119_bacteria_566.jpeg  person175_bacteria_833.jpeg\n",
            "person119_bacteria_567.jpeg  person175_bacteria_834.jpeg\n",
            "person119_bacteria_568.jpeg  person175_bacteria_835.jpeg\n",
            "person11_virus_38.jpeg\t     person17_virus_48.jpeg\n",
            "person120_bacteria_570.jpeg  person18_virus_49.jpeg\n",
            "person120_bacteria_571.jpeg  person19_virus_50.jpeg\n",
            "person120_bacteria_572.jpeg  person1_virus_11.jpeg\n",
            "person120_bacteria_573.jpeg  person1_virus_12.jpeg\n",
            "person121_bacteria_575.jpeg  person1_virus_13.jpeg\n",
            "person121_bacteria_576.jpeg  person1_virus_6.jpeg\n",
            "person121_bacteria_578.jpeg  person1_virus_7.jpeg\n",
            "person121_bacteria_579.jpeg  person1_virus_8.jpeg\n",
            "person121_bacteria_580.jpeg  person1_virus_9.jpeg\n",
            "person122_bacteria_581.jpeg  person20_virus_51.jpeg\n",
            "person122_bacteria_582.jpeg  person21_virus_52.jpeg\n",
            "person122_bacteria_583.jpeg  person21_virus_53.jpeg\n",
            "person122_bacteria_584.jpeg  person22_virus_54.jpeg\n",
            "person122_bacteria_585.jpeg  person22_virus_55.jpeg\n",
            "person122_bacteria_586.jpeg  person23_virus_56.jpeg\n",
            "person123_bacteria_587.jpeg  person24_virus_58.jpeg\n",
            "person124_bacteria_589.jpeg  person25_virus_59.jpeg\n",
            "person124_bacteria_590.jpeg  person26_virus_60.jpeg\n",
            "person124_bacteria_591.jpeg  person28_virus_62.jpeg\n",
            "person124_bacteria_592.jpeg  person28_virus_63.jpeg\n",
            "person125_bacteria_594.jpeg  person29_virus_64.jpeg\n",
            "person125_bacteria_595.jpeg  person30_virus_69.jpeg\n",
            "person126_bacteria_598.jpeg  person31_virus_70.jpeg\n",
            "person126_bacteria_599.jpeg  person32_virus_71.jpeg\n",
            "person126_bacteria_600.jpeg  person33_virus_72.jpeg\n",
            "person127_bacteria_602.jpeg  person34_virus_76.jpeg\n",
            "person127_bacteria_603.jpeg  person35_virus_80.jpeg\n",
            "person127_bacteria_604.jpeg  person36_virus_81.jpeg\n",
            "person128_bacteria_605.jpeg  person37_virus_82.jpeg\n",
            "person128_bacteria_606.jpeg  person38_virus_83.jpeg\n",
            "person128_bacteria_607.jpeg  person38_virus_84.jpeg\n",
            "person128_bacteria_608.jpeg  person39_virus_85.jpeg\n",
            "person130_bacteria_623.jpeg  person3_virus_15.jpeg\n",
            "person130_bacteria_625.jpeg  person3_virus_16.jpeg\n",
            "person130_bacteria_626.jpeg  person3_virus_17.jpeg\n",
            "person130_bacteria_627.jpeg  person40_virus_87.jpeg\n",
            "person130_bacteria_628.jpeg  person41_virus_88.jpeg\n",
            "person131_bacteria_629.jpeg  person42_virus_89.jpeg\n",
            "person132_bacteria_632.jpeg  person43_virus_92.jpeg\n",
            "person133_bacteria_633.jpeg  person44_virus_93.jpeg\n",
            "person133_bacteria_634.jpeg  person44_virus_94.jpeg\n",
            "person133_bacteria_635.jpeg  person45_virus_95.jpeg\n",
            "person133_bacteria_637.jpeg  person46_virus_96.jpeg\n",
            "person133_bacteria_638.jpeg  person47_virus_99.jpeg\n",
            "person134_bacteria_640.jpeg  person48_virus_100.jpeg\n",
            "person134_bacteria_641.jpeg  person49_virus_101.jpeg\n",
            "person134_bacteria_642.jpeg  person50_virus_102.jpeg\n",
            "person134_bacteria_643.jpeg  person51_virus_105.jpeg\n",
            "person134_bacteria_644.jpeg  person52_virus_106.jpeg\n",
            "person135_bacteria_646.jpeg  person53_virus_107.jpeg\n",
            "person135_bacteria_647.jpeg  person53_virus_108.jpeg\n",
            "person136_bacteria_648.jpeg  person54_virus_109.jpeg\n",
            "person136_bacteria_649.jpeg  person55_virus_110.jpeg\n",
            "person136_bacteria_650.jpeg  person56_virus_112.jpeg\n",
            "person136_bacteria_652.jpeg  person57_virus_113.jpeg\n",
            "person136_bacteria_654.jpeg  person59_virus_116.jpeg\n",
            "person137_bacteria_655.jpeg  person60_virus_117.jpeg\n",
            "person138_bacteria_657.jpeg  person61_virus_118.jpeg\n",
            "person138_bacteria_658.jpeg  person62_virus_119.jpeg\n",
            "person138_bacteria_659.jpeg  person63_virus_121.jpeg\n",
            "person139_bacteria_661.jpeg  person64_virus_122.jpeg\n",
            "person139_bacteria_662.jpeg  person65_virus_123.jpeg\n",
            "person139_bacteria_663.jpeg  person66_virus_125.jpeg\n",
            "person139_bacteria_664.jpeg  person67_virus_126.jpeg\n",
            "person139_bacteria_665.jpeg  person69_virus_129.jpeg\n",
            "person139_bacteria_666.jpeg  person70_virus_130.jpeg\n",
            "person140_bacteria_667.jpeg  person71_virus_131.jpeg\n",
            "person140_bacteria_668.jpeg  person71_virus_132.jpeg\n",
            "person141_bacteria_670.jpeg  person72_virus_133.jpeg\n",
            "person141_bacteria_676.jpeg  person74_virus_135.jpeg\n",
            "person141_bacteria_677.jpeg  person75_virus_136.jpeg\n",
            "person141_bacteria_678.jpeg  person76_virus_138.jpeg\n",
            "person141_bacteria_681.jpeg  person77_virus_139.jpeg\n",
            "person142_bacteria_682.jpeg  person78_bacteria_378.jpeg\n",
            "person142_bacteria_683.jpeg  person78_bacteria_380.jpeg\n",
            "person142_bacteria_684.jpeg  person78_bacteria_381.jpeg\n",
            "person143_bacteria_687.jpeg  person78_bacteria_382.jpeg\n",
            "person143_bacteria_688.jpeg  person78_bacteria_384.jpeg\n",
            "person143_bacteria_689.jpeg  person78_bacteria_385.jpeg\n",
            "person144_bacteria_690.jpeg  person78_bacteria_386.jpeg\n",
            "person145_bacteria_696.jpeg  person78_bacteria_387.jpeg\n",
            "person146_bacteria_700.jpeg  person78_virus_140.jpeg\n",
            "person146_bacteria_703.jpeg  person79_virus_148.jpeg\n",
            "person146_bacteria_704.jpeg  person80_bacteria_389.jpeg\n",
            "person147_bacteria_705.jpeg  person80_bacteria_390.jpeg\n",
            "person147_bacteria_706.jpeg  person80_bacteria_391.jpeg\n",
            "person147_bacteria_707.jpeg  person80_bacteria_392.jpeg\n",
            "person147_bacteria_711.jpeg  person80_bacteria_393.jpeg\n",
            "person149_bacteria_713.jpeg  person81_bacteria_395.jpeg\n",
            "person14_virus_44.jpeg\t     person81_bacteria_396.jpeg\n",
            "person150_bacteria_715.jpeg  person81_bacteria_397.jpeg\n",
            "person150_bacteria_716.jpeg  person81_bacteria_398.jpeg\n",
            "person150_bacteria_717.jpeg  person82_bacteria_402.jpeg\n",
            "person151_bacteria_718.jpeg  person82_bacteria_403.jpeg\n",
            "person152_bacteria_720.jpeg  person82_bacteria_404.jpeg\n",
            "person152_bacteria_721.jpeg  person82_bacteria_405.jpeg\n",
            "person152_bacteria_722.jpeg  person83_bacteria_407.jpeg\n",
            "person152_bacteria_723.jpeg  person83_bacteria_409.jpeg\n",
            "person152_bacteria_724.jpeg  person83_bacteria_410.jpeg\n",
            "person153_bacteria_725.jpeg  person83_bacteria_411.jpeg\n",
            "person153_bacteria_726.jpeg  person83_bacteria_412.jpeg\n",
            "person154_bacteria_728.jpeg  person83_bacteria_414.jpeg\n",
            "person155_bacteria_729.jpeg  person85_bacteria_417.jpeg\n",
            "person155_bacteria_730.jpeg  person85_bacteria_419.jpeg\n",
            "person155_bacteria_731.jpeg  person85_bacteria_421.jpeg\n",
            "person157_bacteria_735.jpeg  person85_bacteria_422.jpeg\n",
            "person157_bacteria_739.jpeg  person85_bacteria_423.jpeg\n",
            "person157_bacteria_740.jpeg  person85_bacteria_424.jpeg\n",
            "person158_bacteria_742.jpeg  person86_bacteria_428.jpeg\n",
            "person158_bacteria_743.jpeg  person86_bacteria_429.jpeg\n",
            "person158_bacteria_744.jpeg  person87_bacteria_433.jpeg\n",
            "person158_bacteria_745.jpeg  person87_bacteria_434.jpeg\n",
            "person159_bacteria_746.jpeg  person88_bacteria_437.jpeg\n",
            "person159_bacteria_747.jpeg  person88_bacteria_438.jpeg\n",
            "person15_virus_46.jpeg\t     person88_bacteria_439.jpeg\n",
            "person1608_virus_2786.jpeg   person89_bacteria_440.jpeg\n",
            "person1610_virus_2793.jpeg   person8_virus_27.jpeg\n",
            "person1612_virus_2797.jpeg   person8_virus_28.jpeg\n",
            "person1612_virus_2798.jpeg   person90_bacteria_442.jpeg\n",
            "person1613_virus_2799.jpeg   person90_bacteria_443.jpeg\n",
            "person1614_virus_2800.jpeg   person91_bacteria_445.jpeg\n",
            "person1615_virus_2801.jpeg   person91_bacteria_446.jpeg\n",
            "person1616_virus_2802.jpeg   person91_bacteria_447.jpeg\n",
            "person1618_virus_2805.jpeg   person91_bacteria_448.jpeg\n",
            "person1619_virus_2806.jpeg   person91_bacteria_449.jpeg\n",
            "person161_bacteria_757.jpeg  person92_bacteria_450.jpeg\n",
            "person161_bacteria_759.jpeg  person92_bacteria_451.jpeg\n",
            "person161_bacteria_762.jpeg  person93_bacteria_453.jpeg\n",
            "person1620_virus_2807.jpeg   person93_bacteria_454.jpeg\n",
            "person1622_virus_2810.jpeg   person94_bacteria_456.jpeg\n",
            "person1623_virus_2813.jpeg   person94_bacteria_457.jpeg\n",
            "person1625_virus_2817.jpeg   person94_bacteria_458.jpeg\n",
            "person1626_virus_2818.jpeg   person95_bacteria_463.jpeg\n",
            "person1627_virus_2819.jpeg   person96_bacteria_464.jpeg\n",
            "person1628_virus_2821.jpeg   person96_bacteria_465.jpeg\n",
            "person1628_virus_2822.jpeg   person96_bacteria_466.jpeg\n",
            "person1629_virus_2823.jpeg   person97_bacteria_468.jpeg\n",
            "person1631_virus_2826.jpeg   person99_bacteria_473.jpeg\n",
            "person1632_virus_2827.jpeg   person99_bacteria_474.jpeg\n"
          ]
        }
      ]
    },
    {
      "cell_type": "code",
      "source": [
        "img_path = \"/content/drive/MyDrive/Colab Notebooks/chest_xray/chest_xray/test/PNEUMONIA/person100_bacteria_477.jpeg\"\n"
      ],
      "metadata": {
        "id": "y_jnULDlDn6C"
      },
      "execution_count": 9,
      "outputs": []
    },
    {
      "cell_type": "code",
      "source": [
        "import os\n",
        "\n",
        "test_normal = \"data/chest_xray/test/NORMAL\"\n",
        "for img_file in os.listdir(test_normal)[:5]:  # test first 5 images\n",
        "    img_path = os.path.join(test_normal, img_file)\n",
        "    img = image.load_img(img_path, target_size=(150,150))\n",
        "    img_array = np.expand_dims(image.img_to_array(img)/255., axis=0)\n",
        "    prediction = model.predict(img_array)\n",
        "    print(img_file, \"->\", \"Pneumonia\" if prediction[0][0]>0.5 else \"Normal\")\n"
      ],
      "metadata": {
        "id": "DIPo-VLJENPO",
        "outputId": "a3418e62-2609-46bb-e755-fc60d035b467",
        "colab": {
          "base_uri": "https://localhost:8080/"
        }
      },
      "execution_count": null,
      "outputs": [
        {
          "output_type": "stream",
          "name": "stdout",
          "text": [
            "\u001b[1m1/1\u001b[0m \u001b[32m━━━━━━━━━━━━━━━━━━━━\u001b[0m\u001b[37m\u001b[0m \u001b[1m0s\u001b[0m 43ms/step\n",
            "IM-0061-0001.jpeg -> Normal\n",
            "\u001b[1m1/1\u001b[0m \u001b[32m━━━━━━━━━━━━━━━━━━━━\u001b[0m\u001b[37m\u001b[0m \u001b[1m0s\u001b[0m 42ms/step\n",
            "IM-0111-0001.jpeg -> Normal\n",
            "\u001b[1m1/1\u001b[0m \u001b[32m━━━━━━━━━━━━━━━━━━━━\u001b[0m\u001b[37m\u001b[0m \u001b[1m0s\u001b[0m 47ms/step\n",
            "NORMAL2-IM-0301-0001.jpeg -> Normal\n",
            "\u001b[1m1/1\u001b[0m \u001b[32m━━━━━━━━━━━━━━━━━━━━\u001b[0m\u001b[37m\u001b[0m \u001b[1m0s\u001b[0m 42ms/step\n",
            "NORMAL2-IM-0095-0001.jpeg -> Pneumonia\n",
            "\u001b[1m1/1\u001b[0m \u001b[32m━━━━━━━━━━━━━━━━━━━━\u001b[0m\u001b[37m\u001b[0m \u001b[1m0s\u001b[0m 60ms/step\n",
            "NORMAL2-IM-0351-0001.jpeg -> Normal\n"
          ]
        }
      ]
    }
  ]
}